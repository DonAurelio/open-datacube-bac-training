{
 "cells": [
  {
   "cell_type": "markdown",
   "metadata": {},
   "source": [
    "<img src=\"docs/banner.png\" alt=\"Deparatemento de Ingeniería de Sistemas y Computación, Universidad de los Andes\">"
   ]
  },
  {
   "cell_type": "markdown",
   "metadata": {},
   "source": [
    "# Introducción a Python \n",
    "\n",
    "Python es un lenguaje de programación de propósito general que puede ser usado en variedad de aplicaciones. Python incluye estructuras de datos de alto nivel que permiten construir aplicaciones complejas rápidamente.\n",
    "\n",
    "**Applicaciones**\n",
    "\n",
    "1. Web development\n",
    "2. Natural language processing \n",
    "3. Data science\n",
    "\n",
    "**Contenido**\n",
    "\n",
    "1. Sintaxis\n",
    "2. Variables \n",
    "3. Variables y tipos de datos\n",
    "4. Operadores\n",
    "6. Condicionales\n",
    "7. Ciclos\n",
    "8. Archivos\n",
    "8. Definición de funciones\n",
    "9. Módulos"
   ]
  },
  {
   "cell_type": "markdown",
   "metadata": {},
   "source": [
    "## Sintaxis\n",
    "\n",
    "___\n",
    "\n",
    "La sintaxis hace referencia a cómo escribir un programa correcto en el lenguaje de programación Python. Así como en los diferentes idiomas existen diferentes reglas que especifican cómo se escribe correctamente una palabra en dicho idioma, los lenguajes de programación también exigen el cumplimiento de estas reglas.\n",
    "\n",
    "**NOTAS:**\n",
    "\n",
    "* La función `print` permite escribir texto en pantalla como se muestra a continuación.\n",
    "* la almuadilla `#` le indica a Python que deseamos escribir un comentario. Los comentarios son útiles para documentar el código. Los comenarios no serán ejecutados en el notebook."
   ]
  },
  {
   "cell_type": "code",
   "execution_count": 1,
   "metadata": {},
   "outputs": [
    {
     "name": "stdout",
     "output_type": "stream",
     "text": [
      "Hello world\n"
     ]
    }
   ],
   "source": [
    "# la función 'print' permite imprimir en pantalla \n",
    "print('Hello world')"
   ]
  },
  {
   "cell_type": "markdown",
   "metadata": {},
   "source": [
    "Cuando un programa es escrito en Python y no se siguen la reglas de sintaxis, entonces surgen errores como el que se presenta a continuación: `SyntaxError`. Que indica que el programa no está bien escrito.\n",
    "\n",
    "El error de sintaxis ocurre porque la función `print` requiere tanto un parentesis de apertura como uno de cierre."
   ]
  },
  {
   "cell_type": "code",
   "execution_count": 2,
   "metadata": {},
   "outputs": [
    {
     "ename": "SyntaxError",
     "evalue": "unexpected EOF while parsing (<ipython-input-2-e52fbd4469c4>, line 2)",
     "output_type": "error",
     "traceback": [
      "\u001b[0;36m  File \u001b[0;32m\"<ipython-input-2-e52fbd4469c4>\"\u001b[0;36m, line \u001b[0;32m2\u001b[0m\n\u001b[0;31m    print('Hello world'\u001b[0m\n\u001b[0m                       ^\u001b[0m\n\u001b[0;31mSyntaxError\u001b[0m\u001b[0;31m:\u001b[0m unexpected EOF while parsing\n"
     ]
    }
   ],
   "source": [
    "# la función 'print' permite imprimir en pantalla \n",
    "print('Hello world'"
   ]
  },
  {
   "cell_type": "markdown",
   "metadata": {},
   "source": [
    "## Variables\n",
    "\n",
    "___\n",
    "\n",
    "Las variables nos permiten almacenar valores. Estos valores son usados perteriormente en algún tipo de operación. Una vez una variable es definida, debe asignarse a esta un valor con el operador de asignación (`=`).\n",
    "\n",
    "* El nombre de una variable debe iniciar con una letra o un underscore (`_`).\n",
    "* El nombre de una variables **no puede empezar con un número**.\n",
    "* El nombre de una variables únicamente puede tener caracteres alfanuméricos y undescores (`A-z`, `0-9`, and `_`)\n",
    "* Los nombre de las variables con case-sensitive (`age`, `Age` and `AGE` son tres variables distintas)\n",
    "\n",
    "Los siguientes son nombres de variables válidos. En cada uno de los ejemplos asignamos a las diferentes variables (`myvar`, `my_var`, `_my_var`, `_my_var`, `myVar`, `MYVAR`, `myvar2`) la cadena de texto `\"John\"` "
   ]
  },
  {
   "cell_type": "code",
   "execution_count": null,
   "metadata": {},
   "outputs": [],
   "source": [
    "myvar = \"John\"\n",
    "my_var = \"John\"\n",
    "_my_var = \"John\"\n",
    "myVar = \"John\"\n",
    "MYVAR = \"John\"\n",
    "myvar2 = \"John\""
   ]
  },
  {
   "cell_type": "markdown",
   "metadata": {},
   "source": [
    "Los siguientes son nombres de variables inválidos **¿Porqué?**"
   ]
  },
  {
   "cell_type": "code",
   "execution_count": null,
   "metadata": {},
   "outputs": [],
   "source": [
    "1myvar = 'John'"
   ]
  },
  {
   "cell_type": "markdown",
   "metadata": {},
   "source": [
    "Las siguientes son palabras reservadas del lenguaje que no pueden ser usadas como nombres de variables.\n",
    "\n",
    "`'False', 'None', 'True', 'and', 'as', 'assert', 'break', 'class', 'continue', 'def', 'del', 'elif', 'else', 'except', 'finally', 'for', 'from', 'global', 'if', 'import', 'in', 'is', 'lambda', 'nonlocal', 'not', 'or',\n",
    "'pass', 'raise', 'return', 'try', 'while', 'with', 'yield'`."
   ]
  },
  {
   "cell_type": "markdown",
   "metadata": {},
   "source": [
    "## Variables y tipos de datos\n",
    "\n",
    "___\n",
    "\n",
    "En Python se pueden representar diferentes tipos de datos como: \n",
    "\n",
    "1. Número: enteros, reales y complejos.\n",
    "2. Cadena de texto\n",
    "3. Booleano\n",
    "3. Colección: listas, tuplas y diccionarios\n",
    "\n",
    "Así el valor de una variable puede ser únicamente uno: **número**, **cadena de texto**, **booleano** o **colección**."
   ]
  },
  {
   "cell_type": "markdown",
   "metadata": {},
   "source": [
    "### Números\n",
    "\n",
    "En Python se pueden representar números **enteros**, **reales** y **complejos** como se muestra a continuación"
   ]
  },
  {
   "cell_type": "code",
   "execution_count": 9,
   "metadata": {},
   "outputs": [
    {
     "name": "stdout",
     "output_type": "stream",
     "text": [
      "100\n"
     ]
    },
    {
     "data": {
      "text/plain": [
       "int"
      ]
     },
     "execution_count": 9,
     "metadata": {},
     "output_type": "execute_result"
    }
   ],
   "source": [
    "# A la variable 'entero' se le asigna el valor numérico 100.\n",
    "entero = 100\n",
    "\n",
    "# La función 'print' tambien permite imprimir el valor de una variable\n",
    "print(entero)\n",
    "\n",
    "# La función 'type' permite imprimir en pantalla el tipo de dato de la variable.\n",
    "type(entero)"
   ]
  },
  {
   "cell_type": "code",
   "execution_count": 8,
   "metadata": {},
   "outputs": [
    {
     "name": "stdout",
     "output_type": "stream",
     "text": [
      "0.124\n"
     ]
    },
    {
     "data": {
      "text/plain": [
       "float"
      ]
     },
     "execution_count": 8,
     "metadata": {},
     "output_type": "execute_result"
    }
   ],
   "source": [
    "# A la variable 'real' se le asigna el valor numérico 0.124.\n",
    "real = 0.124\n",
    "\n",
    "# La función 'print' tambien permite imprimir el valor de una variable\n",
    "print(real)\n",
    "\n",
    "# La función 'type' permite imprimir en pantalla el tipo de dato de la variable.\n",
    "type(real)"
   ]
  },
  {
   "cell_type": "code",
   "execution_count": 7,
   "metadata": {},
   "outputs": [
    {
     "name": "stdout",
     "output_type": "stream",
     "text": [
      "0.0001\n"
     ]
    },
    {
     "data": {
      "text/plain": [
       "float"
      ]
     },
     "execution_count": 7,
     "metadata": {},
     "output_type": "execute_result"
    }
   ],
   "source": [
    "# A la variable 'real' se le asigna el valor numérico en notación científica 0.1e-3.\n",
    "real = 0.1e-3\n",
    "\n",
    "# La función 'print' tambien permite imprimir el valor de una variable\n",
    "print(real)\n",
    "\n",
    "\n",
    "# La función 'type' permite imprimir en pantalla el tipo de dato de la variable.\n",
    "type(real)"
   ]
  },
  {
   "cell_type": "code",
   "execution_count": 6,
   "metadata": {},
   "outputs": [
    {
     "name": "stdout",
     "output_type": "stream",
     "text": [
      "(2.1+7.8j)\n"
     ]
    },
    {
     "data": {
      "text/plain": [
       "complex"
      ]
     },
     "execution_count": 6,
     "metadata": {},
     "output_type": "execute_result"
    }
   ],
   "source": [
    "# A la variable 'complejo' se le asigna el valor numérico en notación científica 0.1e-3.\n",
    "complejo = 2.1 + 7.8j\n",
    "\n",
    "# La función 'print' tambien permite imprimir el valor de una variable\n",
    "print(complejo)\n",
    "\n",
    "# La función 'type' permite imprimir en pantalla el tipo de dato de la variable.\n",
    "type(complejo)"
   ]
  },
  {
   "cell_type": "markdown",
   "metadata": {},
   "source": [
    "### Operadores aritméticos\n",
    "\n",
    "En el cuadro que se muestra a continuación se describen los operadores arítmeticos básicos disponibles en Python para la operación de números.\n",
    "\n",
    "| Operador | Descripción     | Ejemplo      |\n",
    "|----------|-----------------|--------------|\n",
    "| +        | Suma            | r = 3 + 2    |\n",
    "| -        | Resta           | r = 4 - 7    |\n",
    "| -        | Negación        | r = -7       |\n",
    "| *        | Multiplicación  | r = 2 * 6    |\n",
    "| **       | Exponente       | r = 2 ** 6   |\n",
    "| /        | División        | r = 3.5 / 2  |\n",
    "| //       | División entera | r = 3.5 // 2 |\n",
    "| %        | Módulo          | r = 7 % 2    |"
   ]
  },
  {
   "cell_type": "markdown",
   "metadata": {},
   "source": [
    "Ejemplo del operador suma (`+`)"
   ]
  },
  {
   "cell_type": "code",
   "execution_count": 20,
   "metadata": {},
   "outputs": [
    {
     "data": {
      "text/plain": [
       "5"
      ]
     },
     "execution_count": 20,
     "metadata": {},
     "output_type": "execute_result"
    }
   ],
   "source": [
    "# Ejemplo 1. Operador de suma (sin usar variables)\n",
    "3 + 2"
   ]
  },
  {
   "cell_type": "code",
   "execution_count": 36,
   "metadata": {},
   "outputs": [
    {
     "data": {
      "text/plain": [
       "5"
      ]
     },
     "execution_count": 36,
     "metadata": {},
     "output_type": "execute_result"
    }
   ],
   "source": [
    "# Ejemplo 2. Operador de suma (usando variables solo para los operandos)\n",
    "a = 3\n",
    "b = 2\n",
    "a + b "
   ]
  },
  {
   "cell_type": "code",
   "execution_count": 34,
   "metadata": {},
   "outputs": [
    {
     "data": {
      "text/plain": [
       "5"
      ]
     },
     "execution_count": 34,
     "metadata": {},
     "output_type": "execute_result"
    }
   ],
   "source": [
    "# Ejemplo 3. Operador de suma (usando una variable por operando y una variable para el resultado)\n",
    "a = 3\n",
    "b = 2\n",
    "r = a + b \n",
    "r"
   ]
  },
  {
   "cell_type": "markdown",
   "metadata": {},
   "source": [
    "> **TODO:**  Realice los ejemplos de los operadores resta (`-`), multiplicación (`*`), exponente (`**`), división (`/`), división entera (`//`), módulo (`%`). Cree una nueva celda para cada ejemplo. Puedes apoyarse en cualquiera de los ejemplo mostrados arriba."
   ]
  },
  {
   "cell_type": "markdown",
   "metadata": {},
   "source": [
    "### Operadores relacionales (comparaciones entre valores)\n",
    "\n",
    "En el cuadro que se muestra a continuación se describen los operadores arítmeticos básicos disponibles en Python para la comparación de números.\n",
    "\n",
    "| Operador | Descripción                | Ejemplo |\n",
    "|----------|----------------------------|---------|\n",
    "| ==       | ¿son iguales a y b?        | 5 == 3  |\n",
    "| !=       | ¿son distintos a y b?      | 5 != 3  |\n",
    "| <        | ¿es a menor que b?         | 5 < 3   |\n",
    "| >        | ¿es a mayor que b?         | 5 > 3   |\n",
    "| <=       | ¿es a menor o igual que b? | 5 <= 5  |\n",
    "| >=       | ¿es a mayor o igual que b? | 5 >= 3  |"
   ]
  },
  {
   "cell_type": "markdown",
   "metadata": {},
   "source": [
    "Ejemplo del operador de igualdad (`==`)"
   ]
  },
  {
   "cell_type": "code",
   "execution_count": 40,
   "metadata": {},
   "outputs": [
    {
     "data": {
      "text/plain": [
       "False"
      ]
     },
     "execution_count": 40,
     "metadata": {},
     "output_type": "execute_result"
    }
   ],
   "source": [
    "# Ejemplo 1\n",
    "5 == 3"
   ]
  },
  {
   "cell_type": "markdown",
   "metadata": {},
   "source": [
    "> **TODO:**  Realice los ejemplos de los operadores `!=`, `<`, `>`, `<=` y `>=`. Cree una nueva celda para cada ejemplo. Puedes apoyarse en cualquiera de los ejemplo mostrados arriba."
   ]
  },
  {
   "cell_type": "markdown",
   "metadata": {},
   "source": [
    "### Cadenas de texto\n",
    "\n",
    "En Python se pueden representar cadenas de texto empleado comillas dobles (`\"`) o sencillas (`'`). A continuación se muestran dos ejemplos. El primero muestra cómo se representa una cadena de texto que requiere una única linea. El segúndo muestra cómo se representa una cadena de texto que requiere múltiples lineas."
   ]
  },
  {
   "cell_type": "code",
   "execution_count": 29,
   "metadata": {},
   "outputs": [
    {
     "name": "stdout",
     "output_type": "stream",
     "text": [
      "Esta es una cadena de texto\n"
     ]
    },
    {
     "data": {
      "text/plain": [
       "str"
      ]
     },
     "execution_count": 29,
     "metadata": {},
     "output_type": "execute_result"
    }
   ],
   "source": [
    "# A la variable 'cadena_una_linea' se le asigna el valor 'Esta es una cadena de texto'.\n",
    "cadena_una_linea = 'Esta es una cadena de texto'\n",
    "\n",
    "# La función 'print' tambien permite imprimir el valor de una variable\n",
    "print(cadena_una_linea)\n",
    "\n",
    "# La función 'type' permite imprimir en pantalla el tipo de dato de la variable.\n",
    "type(cadena_una_linea)"
   ]
  },
  {
   "cell_type": "code",
   "execution_count": 31,
   "metadata": {},
   "outputs": [
    {
     "name": "stdout",
     "output_type": "stream",
     "text": [
      "\n",
      "Esta es una cadena que ocupa \n",
      "multiples lineas.\n",
      "\n"
     ]
    },
    {
     "data": {
      "text/plain": [
       "str"
      ]
     },
     "execution_count": 31,
     "metadata": {},
     "output_type": "execute_result"
    }
   ],
   "source": [
    "# A la variable 'cadena_multiples_lineas' se le asigna el valor 'Esta es una cadena de texto'.\n",
    "cadena_multiples_lineas = \"\"\"\n",
    "Esta es una cadena que ocupa \n",
    "multiples lineas.\n",
    "\"\"\"\n",
    "\n",
    "# La función 'print' tambien permite imprimir el valor de una variable\n",
    "print(cadena_multiples_lineas)\n",
    "\n",
    "# La función 'type' permite imprimir en pantalla el tipo de dato de la variable.\n",
    "type(cadena_multiples_lineas)"
   ]
  },
  {
   "cell_type": "markdown",
   "metadata": {},
   "source": [
    "### Operadores en cadenas de texto\n",
    "\n",
    "En el cuadro que se muestra a continuación se describen los operadores básicos disponibles en Python para la operación de cadenas de texto.\n",
    "\n",
    "| Operador | Descripción       | Ejemplo                      |\n",
    "|----------|-------------------|------------------------------|\n",
    "| +        | Concatenación     | 'a' + 'b'                    |\n",
    "| *        | Multiplicación    | 'a' * 3                      |\n",
    "| []       | Indexación        | a = 'hola' <br> a[0]         |\n",
    "| [i:j]    | *Slicing*         | a = 'hola mundo' <br> a[1:3] |\n",
    "| [:j]     | *Slicing* parcial | a = 'hola mundo' <br> a[:3]  |\n",
    "| [i:]     | *Slicing* parcial | a = 'hola mundo' <br> a[1:]  |"
   ]
  },
  {
   "cell_type": "markdown",
   "metadata": {},
   "source": [
    "Ejemplo del operador de concatenación (`+`)"
   ]
  },
  {
   "cell_type": "code",
   "execution_count": 33,
   "metadata": {},
   "outputs": [
    {
     "data": {
      "text/plain": [
       "'ab'"
      ]
     },
     "execution_count": 33,
     "metadata": {},
     "output_type": "execute_result"
    }
   ],
   "source": [
    "# Ejemplo 1. Operador de concatenación (sin usar variables)\n",
    "'a' + 'b'"
   ]
  },
  {
   "cell_type": "code",
   "execution_count": 35,
   "metadata": {},
   "outputs": [
    {
     "data": {
      "text/plain": [
       "'ab'"
      ]
     },
     "execution_count": 35,
     "metadata": {},
     "output_type": "execute_result"
    }
   ],
   "source": [
    "# Ejemplo 2. Operador de concatenación\n",
    "\n",
    "a = 'a'\n",
    "b = 'b'\n",
    "\n",
    "a + b "
   ]
  },
  {
   "cell_type": "code",
   "execution_count": 37,
   "metadata": {},
   "outputs": [
    {
     "data": {
      "text/plain": [
       "'ab'"
      ]
     },
     "execution_count": 37,
     "metadata": {},
     "output_type": "execute_result"
    }
   ],
   "source": [
    "# Ejemplo 3. Operador de concatenación\n",
    "\n",
    "a = 'a'\n",
    "b = 'b'\n",
    "\n",
    "r = a + b\n",
    "r"
   ]
  },
  {
   "cell_type": "markdown",
   "metadata": {},
   "source": [
    "> **TODO:**  Realice los ejemplos de los operadores de cadenas multiplicación (`-`), indexación (`[]`), slicing (`[:]`), slicing parcial 1 (`[:j]`) y parcial 2 (`[i:]`). Cree una nueva celda para cada ejemplo. Puedes apoyarse en cualquiera de los ejemplo mostrados arriba."
   ]
  },
  {
   "cell_type": "markdown",
   "metadata": {},
   "source": [
    "### Booleano"
   ]
  },
  {
   "cell_type": "code",
   "execution_count": 18,
   "metadata": {},
   "outputs": [
    {
     "name": "stdout",
     "output_type": "stream",
     "text": [
      "True\n"
     ]
    },
    {
     "data": {
      "text/plain": [
       "bool"
      ]
     },
     "execution_count": 18,
     "metadata": {},
     "output_type": "execute_result"
    }
   ],
   "source": [
    "# A la variable 'booleano' se le asigna el valor 'Esta es una cadena de texto'.\n",
    "booleano = True\n",
    "\n",
    "# La función 'print' tambien permite imprimir el valor de una variable\n",
    "print(booleano)\n",
    "\n",
    "# La función 'type' permite imprimir en pantalla el tipo de dato de la variable.\n",
    "type(booleano)"
   ]
  }
 ],
 "metadata": {
  "kernelspec": {
   "display_name": "Python 3",
   "language": "python",
   "name": "python3"
  },
  "language_info": {
   "codemirror_mode": {
    "name": "ipython",
    "version": 3
   },
   "file_extension": ".py",
   "mimetype": "text/x-python",
   "name": "python",
   "nbconvert_exporter": "python",
   "pygments_lexer": "ipython3",
   "version": "3.6.9"
  }
 },
 "nbformat": 4,
 "nbformat_minor": 4
}
