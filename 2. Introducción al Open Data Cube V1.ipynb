{
 "cells": [
  {
   "cell_type": "markdown",
   "metadata": {},
   "source": [
    "<img src=\"docs/banner.png\" alt=\"Deparatemento de Ingeniería de Sistemas y Computación, Universidad de los Andes\">"
   ]
  },
  {
   "cell_type": "markdown",
   "metadata": {},
   "source": [
    "# Introducción al Open Data Cube\n",
    "\n",
    "**Introducción**\n",
    "\n",
    "El Open Data Cube es un conjunto de librerías que facilitan el proceso de **Organización**, **Consulta** y **Recuperación** de información de imágenes de satélite. En la presente practica relizaremos el proceso de consulta y análisis de una imágen satelital mediante las funcionalidades que ofrece el ODC.\n",
    "\n",
    "**Contenido**\n",
    "\n",
    "1. importar librerías\n",
    "2. Consulta del área de estudio\n",
    "3. Características de la imágen obtenida\n",
    "4. Aplicación de un algoritmo de análisis\n",
    "5. Visualización de resultados"
   ]
  },
  {
   "cell_type": "markdown",
   "metadata": {},
   "source": [
    "## 1. Importar librerías\n",
    "\n",
    "En esta sección se importan las librerías cuya funicionalidades particulares son requeridas."
   ]
  },
  {
   "cell_type": "code",
   "execution_count": null,
   "metadata": {},
   "outputs": [],
   "source": [
    "# las funcionalidades del open data cube son accedidas \n",
    "# por medio de la librería datacube\n",
    "import datacube\n",
    "\n",
    "# Librería usada para la carga de polígonos\n",
    "import geopandas as gpd\n",
    "\n",
    "# Librería usada para visualización de datos\n",
    "import matplotlib.pyplot as plt\n",
    "\n",
    "# Desactiva los warnings en el notebook\n",
    "import warnings\n",
    "warnings.filterwarnings('ignore')\n",
    "warnings.simplefilter('ignore')\n",
    "\n",
    "# Configuración de Drivers para leer polígonos en formato KMLs\n",
    "gpd.io.file.fiona.drvsupport.supported_drivers['KML'] = 'rw'"
   ]
  },
  {
   "cell_type": "markdown",
   "metadata": {},
   "source": [
    "## 2. Consulta del área de estudio"
   ]
  },
  {
   "cell_type": "markdown",
   "metadata": {},
   "source": [
    "(Opción 1) Consultar un área a partir de un polígono"
   ]
  },
  {
   "cell_type": "code",
   "execution_count": null,
   "metadata": {},
   "outputs": [],
   "source": [
    "# Carga del archivo .kml\n",
    "df_polygon = gpd.read_file(\"1.kml\",driver='KML')\n",
    "df_polygon = df_polygon.to_crs('EPSG:32719')\n",
    "\n",
    "# Pintar el polígono seleccionado\n",
    "fig, ax = plt.subplots(figsize=(5,5))\n",
    "geo_df_predio.boundary.plot(ax=ax,color='red')\n",
    "\n",
    "# Obtención de la geometría del polígono del GeoDataFrame\n",
    "geometry_predio = geo_df_predio['geometry'][0]\n",
    "\n",
    "# Obtención de los límites del cuadrado que enmarca el polígono\n",
    "minx, miny, maxx, maxy = geometry_predio.bounds\n",
    "\n",
    "# Aumento del aŕea del cuadrado para \"EPSG:32719\"\n",
    "# 2 kilómetros\n",
    "buffer = 2000\n",
    "\n",
    "minx = minx - buffer\n",
    "miny = miny - buffer\n",
    "maxx = maxx + buffer\n",
    "maxy = maxy + buffer\n",
    "\n",
    "# Parámetros de área a ser consultada\n",
    "set_study_area_lat = (miny,maxy)\n",
    "set_study_area_lon = (minx,maxx)\n",
    "\n",
    "print(set_study_area_lat)\n",
    "print(set_study_area_lon)"
   ]
  },
  {
   "cell_type": "markdown",
   "metadata": {},
   "source": [
    "(Opción 2) Consultar un área a partir de un rango de coordenadas"
   ]
  },
  {
   "cell_type": "code",
   "execution_count": null,
   "metadata": {},
   "outputs": [],
   "source": [
    "# # Parámetros de área a ser consultada\n",
    "# set_study_area_lat = (,)\n",
    "# set_study_area_lon = (,)"
   ]
  },
  {
   "cell_type": "markdown",
   "metadata": {},
   "source": [
    "(Opción 3) Consultar un área a partir de un punto"
   ]
  },
  {
   "cell_type": "code",
   "execution_count": null,
   "metadata": {},
   "outputs": [],
   "source": [
    "# # Definición de las coordenadas del punto\n",
    "# central_lat = 5.672302\n",
    "# central_lon = -73.257158\n",
    "\n",
    "# # Aumento del aŕea del cuadrado para \"EPSG:32719\"\n",
    "# # 2 kilómetros\n",
    "# buffer = 2000\n",
    "\n",
    "# # Calculo del cuadro delimitador (bounding box) para el área de estudio\n",
    "# set_study_area_lat = (central_lat - buffer, central_lat + buffer)\n",
    "# set_study_area_lon = (central_lon - buffer, central_lon + buffer)\n",
    "\n",
    "# print(set_study_area_lat)\n",
    "# print(set_study_area_lon)"
   ]
  },
  {
   "cell_type": "markdown",
   "metadata": {},
   "source": [
    "Configuración parámetros adicionales de la consulta"
   ]
  },
  {
   "cell_type": "code",
   "execution_count": null,
   "metadata": {},
   "outputs": [],
   "source": [
    "# Seleeción del producto\n",
    "set_product = \"s2_sen2cor_ard_granule_EO3\"\n",
    "\n",
    "# Selección del periodo de tiempo\n",
    "set_time = ('2020-04-10', '2020-04-18')\n",
    "\n",
    "# Selección de las bandas\n",
    "set_measurements = [\n",
    "    \"red\",\n",
    "    \"blue\",\n",
    "    \"green\",\n",
    "    \"nir\",\n",
    "    \"swir1\",\n",
    "    \"swir2\",\n",
    "    \"scl\"\n",
    "]\n",
    "\n",
    "# Sistema de coordenadas para especificar latitud y longitud\n",
    "set_input_crs = 'EPSG:32719'\n",
    "\n",
    "# Sistema de coordenada de salida del dataset.\n",
    "set_output_crs = 'EPSG:32719'\n",
    "\n",
    "# Resolución \n",
    "set_resolution = (-10, 10)"
   ]
  },
  {
   "cell_type": "markdown",
   "metadata": {},
   "source": [
    "Carga de información en el Open Data Cube"
   ]
  },
  {
   "cell_type": "code",
   "execution_count": null,
   "metadata": {
    "scrolled": true
   },
   "outputs": [],
   "source": [
    "dc = datacube.Datacube(app=\"Cana\")\n",
    "\n",
    "dataset = dc.load(\n",
    "    product=set_product,\n",
    "    x=set_study_area_lon,\n",
    "    y=set_study_area_lat,\n",
    "    time=set_time,\n",
    "    measurements=set_measurements,\n",
    "    crs=set_input_crs,\n",
    "    output_crs=set_output_crs,\n",
    "    resolution=set_resolution,\n",
    ")\n",
    "\n",
    "dataset = dataset.assign(**additional_indices)\n",
    "dataset"
   ]
  },
  {
   "cell_type": "markdown",
   "metadata": {},
   "source": [
    "## 3. Características de la imágen obtenida"
   ]
  },
  {
   "cell_type": "markdown",
   "metadata": {},
   "source": [
    "## 4. Aplicación de un algoritmo de análisis"
   ]
  },
  {
   "cell_type": "code",
   "execution_count": null,
   "metadata": {},
   "outputs": [],
   "source": [
    "def savi(dataset):\n",
    "    \"\"\"\n",
    "    Soil Adjusted Vegetation Index\n",
    "    Referencia: https://www.usgs.gov/core-science-systems/nli/landsat/landsat-soil-adjusted-vegetation-index\n",
    "    \"\"\"\n",
    "    return ((dataset.nir - dataset.red)/(dataset.nir + dataset.red + 0.5))*(1.5)\n",
    "\n",
    "additional_indices = {\n",
    "    'savi':savi,\n",
    "}"
   ]
  },
  {
   "cell_type": "markdown",
   "metadata": {},
   "source": [
    "## 5. Visualización de resultados"
   ]
  },
  {
   "cell_type": "code",
   "execution_count": null,
   "metadata": {},
   "outputs": [],
   "source": [
    "rgb = dataset[[\"red\",\"green\",\"blue\"]].to_array(dim='color')\n",
    "rgb = rgb.transpose(*(rgb.dims[1:]+rgb.dims[:1]))  # make 'color' the last dimension\n",
    "img = rgb.plot.imshow(col='time',col_wrap=4,add_colorbar=False,vmin=0,vmax=1500)\n",
    "\n",
    "for axes in img.axes.flat:\n",
    "    geo_df_predio.boundary.plot(ax=axes,markersize=20,color='blue',marker='o')\n",
    "plt.show()"
   ]
  }
 ],
 "metadata": {
  "kernelspec": {
   "display_name": "Python 3",
   "language": "python",
   "name": "python3"
  },
  "language_info": {
   "codemirror_mode": {
    "name": "ipython",
    "version": 3
   },
   "file_extension": ".py",
   "mimetype": "text/x-python",
   "name": "python",
   "nbconvert_exporter": "python",
   "pygments_lexer": "ipython3",
   "version": "3.6.9"
  }
 },
 "nbformat": 4,
 "nbformat_minor": 4
}
